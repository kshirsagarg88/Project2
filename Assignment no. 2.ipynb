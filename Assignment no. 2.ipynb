{
 "cells": [
  {
   "cell_type": "code",
   "execution_count": null,
   "id": "798faaf0",
   "metadata": {},
   "outputs": [],
   "source": [
    "Roll no.: 19\n",
    "Name : Kshirsagar Ganesh Vijay"
   ]
  },
  {
   "attachments": {},
   "cell_type": "markdown",
   "id": "d5f161df",
   "metadata": {},
   "source": [
    "## 1. What is a List?"
   ]
  },
  {
   "cell_type": "code",
   "execution_count": null,
   "id": "1cea4023",
   "metadata": {},
   "outputs": [],
   "source": [
    "List is a collection of different data types.\n",
    "e.g.\n",
    "   lst = [2,3,\"welcome\",34.87,5+6j]"
   ]
  },
  {
   "attachments": {},
   "cell_type": "markdown",
   "id": "2ff5f194",
   "metadata": {},
   "source": [
    "## 2. What is a Tuple?"
   ]
  },
  {
   "cell_type": "code",
   "execution_count": null,
   "id": "6b25e5bd",
   "metadata": {},
   "outputs": [],
   "source": [
    "Tuple is a collection of different data types.\n",
    "e.g.\n",
    "  tup1 = (2,3,4,[2,4,7.7],\"hii\")"
   ]
  },
  {
   "attachments": {},
   "cell_type": "markdown",
   "id": "a75ddb90",
   "metadata": {},
   "source": [
    "### 3. What is the difference between List and Tuple?"
   ]
  },
  {
   "cell_type": "code",
   "execution_count": null,
   "id": "f012385c",
   "metadata": {},
   "outputs": [],
   "source": [
    "     List                                                              Tuple\n",
    "1]List is mutable                                          1]Tuple is immutable\n",
    "2]Enclosed in []                                           2]Enclosed in ()\n",
    "3] 'n' number of items are added.Hence no fixed            3]No addition of elements takes place.Hence fixed length\n",
    "  length.\n",
    "4]List requires more memory                                4]Tuple requires less memory as compared to list\n",
    "5]List is more functional                                  5]Tuple is less functional\n",
    "6]List is slower                                           6]Tuple is faster\n",
    "7][] necessary                                                         7]( ) not necessary to give "
   ]
  },
  {
   "attachments": {},
   "cell_type": "markdown",
   "id": "b6d913a8",
   "metadata": {},
   "source": [
    "## 4. Python Program to find the largest element in the list"
   ]
  },
  {
   "cell_type": "code",
   "execution_count": 1,
   "id": "fccca38a",
   "metadata": {},
   "outputs": [
    {
     "data": {
      "text/plain": [
       "8"
      ]
     },
     "execution_count": 1,
     "metadata": {},
     "output_type": "execute_result"
    }
   ],
   "source": [
    "lst = [2,4,6,8,3]\n",
    "max(lst)"
   ]
  },
  {
   "attachments": {},
   "cell_type": "markdown",
   "id": "a47b2473",
   "metadata": {},
   "source": [
    "## 5. Python program to interchange first and last elements in a list."
   ]
  },
  {
   "cell_type": "code",
   "execution_count": 2,
   "id": "a9dca5df",
   "metadata": {},
   "outputs": [
    {
     "data": {
      "text/plain": [
       "[67, 27, 5, 7, 54, 23]"
      ]
     },
     "execution_count": 2,
     "metadata": {},
     "output_type": "execute_result"
    }
   ],
   "source": [
    "list = [23,27,5,7,54,67]\n",
    "first = list[0]\n",
    "list[0] = list[-1]\n",
    "list[-1] = first\n",
    "list"
   ]
  },
  {
   "attachments": {},
   "cell_type": "markdown",
   "id": "45b348f0",
   "metadata": {},
   "source": [
    "## 6. Python program to swap two elements in a list"
   ]
  },
  {
   "cell_type": "code",
   "execution_count": 10,
   "id": "6da06855",
   "metadata": {},
   "outputs": [
    {
     "data": {
      "text/plain": [
       "[2, 3, 4, 7, 9]"
      ]
     },
     "execution_count": 10,
     "metadata": {},
     "output_type": "execute_result"
    }
   ],
   "source": [
    "lst = [2,4,7,9,3]\n",
    "first = lst.pop(4)\n",
    "second = lst.pop(3)\n",
    "lst.insert(1,first)\n",
    "lst.insert(4,second)\n",
    "lst"
   ]
  },
  {
   "attachments": {},
   "cell_type": "markdown",
   "id": "07548421",
   "metadata": {},
   "source": [
    "## 7. Python program to Reverse a List"
   ]
  },
  {
   "cell_type": "code",
   "execution_count": 14,
   "id": "32fde3cf",
   "metadata": {},
   "outputs": [
    {
     "name": "stdout",
     "output_type": "stream",
     "text": [
      "[8, 6, 1, 7, 4]\n"
     ]
    }
   ],
   "source": [
    "list1 = [4,7,1,6,8]\n",
    "print(list1[::-1])"
   ]
  },
  {
   "attachments": {},
   "cell_type": "markdown",
   "id": "ac6f547f",
   "metadata": {},
   "source": [
    "## 8. Python program to count occurrences of an element in a list"
   ]
  },
  {
   "cell_type": "code",
   "execution_count": 17,
   "id": "47b116e6",
   "metadata": {},
   "outputs": [
    {
     "data": {
      "text/plain": [
       "2"
      ]
     },
     "execution_count": 17,
     "metadata": {},
     "output_type": "execute_result"
    }
   ],
   "source": [
    "lst = [5,4,3,5,6,4,3]\n",
    "lst.count(5)"
   ]
  },
  {
   "attachments": {},
   "cell_type": "markdown",
   "id": "8f144bc5",
   "metadata": {},
   "source": [
    "## 9. Python program to find the sum of elements in a list"
   ]
  },
  {
   "cell_type": "code",
   "execution_count": 21,
   "id": "503f321a",
   "metadata": {},
   "outputs": [
    {
     "name": "stdout",
     "output_type": "stream",
     "text": [
      "sum of elements in a list =  23\n"
     ]
    }
   ],
   "source": [
    "lst = [2,4,6,8,3]\n",
    "sum1 = 0\n",
    "for i in lst:\n",
    "    sum1+=i\n",
    "print(\"sum of elements in a list = \",sum1)"
   ]
  },
  {
   "attachments": {},
   "cell_type": "markdown",
   "id": "ab1ba289",
   "metadata": {},
   "source": [
    "## 10. Python program to Multiply all numbers in the list"
   ]
  },
  {
   "cell_type": "code",
   "execution_count": 22,
   "id": "34470fe4",
   "metadata": {},
   "outputs": [
    {
     "name": "stdout",
     "output_type": "stream",
     "text": [
      "Multiplication of elements in a list =  1152\n"
     ]
    }
   ],
   "source": [
    "lst = [2,4,6,8,3]\n",
    "mul = 1\n",
    "for i in lst:\n",
    "    mul*=i\n",
    "print(\"Multiplication of elements in a list = \",mul)"
   ]
  },
  {
   "attachments": {},
   "cell_type": "markdown",
   "id": "83c1367c",
   "metadata": {},
   "source": [
    "## 11. What are the ways to find the length of a list"
   ]
  },
  {
   "cell_type": "code",
   "execution_count": 26,
   "id": "2bada6d3",
   "metadata": {},
   "outputs": [
    {
     "name": "stdout",
     "output_type": "stream",
     "text": [
      "5\n"
     ]
    }
   ],
   "source": [
    "lst = [2,4,6,8,3]\n",
    "len(lst)\n",
    "\n",
    "\n",
    "lst2 = [2,4,6,8,3]\n",
    "for j,k in enumerate (lst2):\n",
    "    length = j+1\n",
    "print(length)"
   ]
  },
  {
   "attachments": {},
   "cell_type": "markdown",
   "id": "abd323f2",
   "metadata": {},
   "source": [
    "## 12. Python program to find the smallest and largest number in a list (Without min - max function )\n"
   ]
  },
  {
   "cell_type": "code",
   "execution_count": 27,
   "id": "9edf71c1",
   "metadata": {},
   "outputs": [
    {
     "name": "stdout",
     "output_type": "stream",
     "text": [
      "min : 1\n",
      "max : 67\n"
     ]
    }
   ],
   "source": [
    "lst12 = [1,4,9,45,67,21]\n",
    "lst12.sort()\n",
    "print(\"min :\",lst12[0])\n",
    "print(\"max :\",lst12[len(lst12)-1])"
   ]
  },
  {
   "attachments": {},
   "cell_type": "markdown",
   "id": "160faa2b",
   "metadata": {},
   "source": [
    "## 13. Python Program to find the area of a circle"
   ]
  },
  {
   "cell_type": "code",
   "execution_count": 28,
   "id": "81cca7f0",
   "metadata": {},
   "outputs": [
    {
     "name": "stdout",
     "output_type": "stream",
     "text": [
      "Enter radius :9\n",
      "Area of circle :  254.34\n"
     ]
    }
   ],
   "source": [
    "R = eval(input(\"Enter radius :\"))\n",
    "area = 3.14 * R * R\n",
    "print(\"Area of circle : \",area)"
   ]
  },
  {
   "attachments": {},
   "cell_type": "markdown",
   "id": "2a756b37",
   "metadata": {},
   "source": [
    "## 14. Take inputs from the user to make a list. Again take one input from the user and search it in the list and delete that element , if found.Iterate over a list using for loop."
   ]
  },
  {
   "cell_type": "code",
   "execution_count": 30,
   "id": "a84affb7",
   "metadata": {},
   "outputs": [
    {
     "name": "stdout",
     "output_type": "stream",
     "text": [
      "Enter no. of items in list :4\n",
      "Enter value :2\n",
      "Enter value :6\n",
      "Enter value :8\n",
      "Enter value :9\n",
      "Enter any number : 6\n"
     ]
    },
    {
     "data": {
      "text/plain": [
       "[2, 8, 9]"
      ]
     },
     "execution_count": 30,
     "metadata": {},
     "output_type": "execute_result"
    }
   ],
   "source": [
    "num = eval(input(\"Enter no. of items in list :\"))\n",
    "lst =[]\n",
    "for i in range(1,num+1):\n",
    "    N1 = eval(input(\"Enter value :\"))\n",
    "    lst.append(N1)\n",
    "    N = eval(input(\"Enter any number : \"))\n",
    "    if N in lst:\n",
    "    lst.remove(N)\n",
    "    else:\n",
    "    print(f\"{N} not found\")\n",
    "lst"
   ]
  },
  {
   "attachments": {},
   "cell_type": "markdown",
   "id": "f5f87699",
   "metadata": {},
   "source": [
    "## 15. You are given a list of integer elements. Make a new list that will store a square of elements of the previous list .(with or without list comprehension)\n",
    "i. Input_list = [2,5,6,12]\n",
    "ii. Output_list = [4,25,36,144]"
   ]
  },
  {
   "cell_type": "code",
   "execution_count": 31,
   "id": "1b3c7971",
   "metadata": {},
   "outputs": [
    {
     "data": {
      "text/plain": [
       "[4, 25, 36, 144]"
      ]
     },
     "execution_count": 31,
     "metadata": {},
     "output_type": "execute_result"
    }
   ],
   "source": [
    "#with list comprehension\n",
    "lst =[2,5,6,12]\n",
    "lst_sqr =[i**2 for i in lst ]\n",
    "lst_sqr"
   ]
  },
  {
   "cell_type": "code",
   "execution_count": 32,
   "id": "2d4e4761",
   "metadata": {},
   "outputs": [
    {
     "data": {
      "text/plain": [
       "[4, 25, 36, 144]"
      ]
     },
     "execution_count": 32,
     "metadata": {},
     "output_type": "execute_result"
    }
   ],
   "source": [
    "#without list comprehension\n",
    "lst =[2,5,6,12]\n",
    "lst_sqr=[]\n",
    "for i in lst:\n",
    " lst_sqr.append(i**2) #body of for loop\n",
    "lst_sqr "
   ]
  },
  {
   "attachments": {},
   "cell_type": "markdown",
   "id": "1421f142",
   "metadata": {},
   "source": [
    "## 16. WAP to create two lists, one containing all even numbers and the other containing all odd numbers between 0 to 151"
   ]
  },
  {
   "cell_type": "code",
   "execution_count": 34,
   "id": "6d4731c8",
   "metadata": {},
   "outputs": [
    {
     "name": "stdout",
     "output_type": "stream",
     "text": [
      "Even List: [2, 4, 6, 8, 10, 12, 14, 16, 18, 20, 22, 24, 26, 28, 30, 32, 34, 36, 38, 40, 42, 44, 46, 48, 50, 52, 54, 56, 58, 60, 62, 64, 66, 68, 70, 72, 74, 76, 78, 80, 82, 84, 86, 88, 90, 92, 94, 96, 98, 100, 102, 104, 106, 108, 110, 112, 114, 116, 118, 120, 122, 124, 126, 128, 130, 132, 134, 136, 138, 140, 142, 144, 146, 148, 150]\n",
      "Odd list : [1, 3, 5, 7, 9, 11, 13, 15, 17, 19, 21, 23, 25, 27, 29, 31, 33, 35, 37, 39, 41, 43, 45, 47, 49, 51, 53, 55, 57, 59, 61, 63, 65, 67, 69, 71, 73, 75, 77, 79, 81, 83, 85, 87, 89, 91, 93, 95, 97, 99, 101, 103, 105, 107, 109, 111, 113, 115, 117, 119, 121, 123, 125, 127, 129, 131, 133, 135, 137, 139, 141, 143, 145, 147, 149, 151]\n"
     ]
    }
   ],
   "source": [
    "even,odd = [],[]\n",
    "for i in range(1,152):\n",
    "    if i%2 == 0:\n",
    "        even.append(i)\n",
    "    else:\n",
    "        odd.append(i)\n",
    "print(\"Even List:\",even)\n",
    "print(\"Odd list :\",odd)"
   ]
  },
  {
   "attachments": {},
   "cell_type": "markdown",
   "id": "a0350d95",
   "metadata": {},
   "source": [
    "## 17. Python program to Count Even and Odd numbers in a List"
   ]
  },
  {
   "cell_type": "code",
   "execution_count": 39,
   "id": "f72c5790",
   "metadata": {},
   "outputs": [
    {
     "name": "stdout",
     "output_type": "stream",
     "text": [
      "Even count : 3\n",
      "Odd count : 3\n"
     ]
    }
   ],
   "source": [
    "lst =[4,78,5,4,1,65]\n",
    "even,odd = 0,0\n",
    "for i in lst:\n",
    "    if i%2 == 0:\n",
    "        even += 1\n",
    "    else:\n",
    "        odd += 1\n",
    "print(\"Even count :\",even)\n",
    "print(\"Odd count :\",odd)"
   ]
  },
  {
   "attachments": {},
   "cell_type": "markdown",
   "id": "144f4a1f",
   "metadata": {},
   "source": [
    "## 18. WAP to make new lists, containing only numbers which are divisible by 4, 6, 8, 10, 3, 5, 7, and 9 in separate lists for range(0,151)\n"
   ]
  },
  {
   "cell_type": "code",
   "execution_count": 6,
   "id": "55a19bce",
   "metadata": {},
   "outputs": [
    {
     "data": {
      "text/plain": [
       "[0]"
      ]
     },
     "execution_count": 6,
     "metadata": {},
     "output_type": "execute_result"
    }
   ],
   "source": [
    "lst = []\n",
    "\n",
    "for i in range(0,151):\n",
    "    if i % 4 == 0 and i % 6 == 0 and i % 8 == 0 and i % 10 == 0 and i % 3 == 0 and i % 5 == 0 and i % 7 == 0 and i % 9 == 0:\n",
    "        lst.append(i)\n",
    "lst\n"
   ]
  },
  {
   "attachments": {},
   "cell_type": "markdown",
   "id": "9d347ab9",
   "metadata": {},
   "source": [
    "## 19. From a list containing ints, strings, and floats, make three lists to store them separately\n"
   ]
  },
  {
   "cell_type": "code",
   "execution_count": 47,
   "id": "8ef7e1b0",
   "metadata": {},
   "outputs": [
    {
     "name": "stdout",
     "output_type": "stream",
     "text": [
      "integer list =  [4, 5]\n",
      "string list =  ['bye', 'nice']\n",
      "float list =  [6.7, 4.56]\n"
     ]
    }
   ],
   "source": [
    "lst = [4,\"bye\",6.70,5,\"nice\",4.56]\n",
    "lst_int = []\n",
    "lst_str = []\n",
    "lst_flt = []\n",
    "for i,k in enumerate (lst):\n",
    "    if type(k) ==int:\n",
    "        lst_int.append(k)\n",
    "    elif type(k) ==str:\n",
    "        lst_str.append(k)\n",
    "    elif type(k) ==float:\n",
    "        lst_flt.append(k)\n",
    "print(\"integer list = \",lst_int)\n",
    "print(\"string list = \",lst_str)\n",
    "print(\"float list = \",lst_flt)"
   ]
  },
  {
   "attachments": {},
   "cell_type": "markdown",
   "id": "f0d3dadb",
   "metadata": {},
   "source": [
    "## 20. What’s The Difference Between The Python append() and extend() Methods?"
   ]
  },
  {
   "cell_type": "code",
   "execution_count": null,
   "id": "a3d8f0ae",
   "metadata": {},
   "outputs": [],
   "source": [
    "append = add the element at the end of list.\n",
    "\n",
    "extend = add the first list to the second list,all the elements get added to the first list\n"
   ]
  },
  {
   "cell_type": "code",
   "execution_count": 48,
   "id": "6f81dfdc",
   "metadata": {},
   "outputs": [
    {
     "data": {
      "text/plain": [
       "[3, 6, 8, 2, 0]"
      ]
     },
     "execution_count": 48,
     "metadata": {},
     "output_type": "execute_result"
    }
   ],
   "source": [
    "lst = [3,6,8,2]\n",
    "lst.append(0)\n",
    "lst"
   ]
  },
  {
   "cell_type": "code",
   "execution_count": 50,
   "id": "9b6175ee",
   "metadata": {},
   "outputs": [
    {
     "data": {
      "text/plain": [
       "[2, 4, 6, 8, 1, 3, 5, 7]"
      ]
     },
     "execution_count": 50,
     "metadata": {},
     "output_type": "execute_result"
    }
   ],
   "source": [
    "lst1 = [2,4,6,8]\n",
    "lst2 = [1,3,5,7]\n",
    "lst1.extend(lst2)\n",
    "lst1"
   ]
  },
  {
   "attachments": {},
   "cell_type": "markdown",
   "id": "ac70eebb",
   "metadata": {},
   "source": [
    "## 21. Write a Python program to append a list to the second list"
   ]
  },
  {
   "cell_type": "code",
   "execution_count": 51,
   "id": "5c0a6532",
   "metadata": {},
   "outputs": [
    {
     "data": {
      "text/plain": [
       "[2, 4, 3, 8, 1, 3, 2, 7]"
      ]
     },
     "execution_count": 51,
     "metadata": {},
     "output_type": "execute_result"
    }
   ],
   "source": [
    "lst1 = [2,4,3,8]\n",
    "lst2 = [1,3,2,7]\n",
    "lst1.extend(lst2)\n",
    "lst1"
   ]
  },
  {
   "attachments": {},
   "cell_type": "markdown",
   "id": "2ab58791",
   "metadata": {},
   "source": [
    "## 22. Write a Python program to find the third-largest number in a list"
   ]
  },
  {
   "cell_type": "code",
   "execution_count": 12,
   "id": "e6fd218d",
   "metadata": {},
   "outputs": [
    {
     "name": "stdout",
     "output_type": "stream",
     "text": [
      "[6, 8, 45, 74, 98]\n",
      "45\n"
     ]
    }
   ],
   "source": [
    "lst =[6,8,45,74,98]\n",
    "print(sorted(lst)) \n",
    "print(lst[-3])"
   ]
  },
  {
   "attachments": {},
   "cell_type": "markdown",
   "id": "ac762017",
   "metadata": {},
   "source": [
    "## 23. Write a Python program to get the frequency of the elements in a list."
   ]
  },
  {
   "cell_type": "code",
   "execution_count": 15,
   "id": "2d9ebe8c",
   "metadata": {},
   "outputs": [
    {
     "name": "stdout",
     "output_type": "stream",
     "text": [
      "1 comes 1 times\n",
      "2 comes 2 times\n",
      "3 comes 2 times\n",
      "5 comes 1 times\n",
      "7 comes 1 times\n"
     ]
    }
   ],
   "source": [
    "lst = [1,2,3,2,3,5,7]\n",
    "set1 = set(lst)\n",
    "for i in set1:\n",
    "    print(f\"{i} comes\" ,lst.count(i),\"times\")"
   ]
  },
  {
   "attachments": {},
   "cell_type": "markdown",
   "id": "073050d9",
   "metadata": {},
   "source": [
    "## 24. Write a Python program to check whether a list contains a sublist"
   ]
  },
  {
   "cell_type": "code",
   "execution_count": 16,
   "id": "9062a54c",
   "metadata": {},
   "outputs": [
    {
     "name": "stdout",
     "output_type": "stream",
     "text": [
      "contains a sublist\n"
     ]
    }
   ],
   "source": [
    "lst = [3,8,7,5,[2,4,7]]\n",
    "for i in lst:\n",
    "    if type(i) == list:\n",
    "        print(\"contains a sublist\")"
   ]
  },
  {
   "attachments": {},
   "cell_type": "markdown",
   "id": "eb101165",
   "metadata": {},
   "source": [
    "## 25. Write a Python program to generate all sublists of a list"
   ]
  },
  {
   "cell_type": "code",
   "execution_count": 17,
   "id": "b87da997",
   "metadata": {},
   "outputs": [
    {
     "name": "stdout",
     "output_type": "stream",
     "text": [
      "[[3], [3, 6], [6], [3, 6, 8], [6, 8], [8], [3, 6, 8, 5], [6, 8, 5], [8, 5], [5]]"
     ]
    }
   ],
   "source": [
    "lst = [3,6,8,5]\n",
    "lst1 = []\n",
    "for i in range (len(lst)+1):\n",
    "    for j in range(i):\n",
    "        lst1.append(lst[j:i])\n",
    "print(lst1,end=\"\")"
   ]
  },
  {
   "attachments": {},
   "cell_type": "markdown",
   "id": "140d7957",
   "metadata": {},
   "source": [
    "## 26. Write a Python program to find common items from two lists"
   ]
  },
  {
   "cell_type": "code",
   "execution_count": 19,
   "id": "860844a2",
   "metadata": {},
   "outputs": [
    {
     "data": {
      "text/plain": [
       "[9]"
      ]
     },
     "execution_count": 19,
     "metadata": {},
     "output_type": "execute_result"
    }
   ],
   "source": [
    "lst1 =[4,7,9,0,2]\n",
    "lst2 =[9,3,1,5]\n",
    "lst_new =[]\n",
    "for i in lst1:\n",
    "    for j in lst2:\n",
    "        if i == j:\n",
    "            lst_new.append(i)\n",
    "lst_new"
   ]
  },
  {
   "attachments": {},
   "cell_type": "markdown",
   "id": "dc3458b1",
   "metadata": {},
   "source": [
    "## 27. How to flatten a list in python?"
   ]
  },
  {
   "cell_type": "code",
   "execution_count": null,
   "id": "39e86dad",
   "metadata": {},
   "outputs": [],
   "source": [
    "1]by using loop\n",
    "2]by using list comprehension\n",
    "3]by using sum()"
   ]
  },
  {
   "attachments": {},
   "cell_type": "markdown",
   "id": "802dc243",
   "metadata": {},
   "source": [
    "## 28. How to sort a list in ascending and descending order without using the sort functions ?"
   ]
  },
  {
   "cell_type": "code",
   "execution_count": 5,
   "id": "9d000b52",
   "metadata": {},
   "outputs": [
    {
     "name": "stdout",
     "output_type": "stream",
     "text": [
      "ascending order : [2, 4, 4, 7, 9]\n",
      "descending order : [9, 7, 4, 4, 2]\n"
     ]
    }
   ],
   "source": [
    "lst = [2,4,7,9,4]\n",
    "lst1 = sorted(lst)\n",
    "print(\"ascending order :\",lst1)\n",
    "lst1 = sorted(lst,reverse = True)\n",
    "print(\"descending order :\",lst1)"
   ]
  },
  {
   "attachments": {},
   "cell_type": "markdown",
   "id": "dc735e51",
   "metadata": {},
   "source": [
    "## 29. How to sort a tuple?"
   ]
  },
  {
   "cell_type": "code",
   "execution_count": 20,
   "id": "c6b6caed",
   "metadata": {},
   "outputs": [
    {
     "data": {
      "text/plain": [
       "(4, 6, 53, 89)"
      ]
     },
     "execution_count": 20,
     "metadata": {},
     "output_type": "execute_result"
    }
   ],
   "source": [
    "tup1 =(6,4,53,89)\n",
    "tup2 = tuple(sorted(tup1,reverse = False))\n",
    "tup2\n",
    "\n",
    "\n",
    "Tuple is comma separated"
   ]
  },
  {
   "attachments": {},
   "cell_type": "markdown",
   "id": "7dd09094",
   "metadata": {},
   "source": [
    "## 30. Write a Python program to convert a list of multiple integers into a single integer\n",
    "a. [11, 33, 50] >>> 113350"
   ]
  },
  {
   "cell_type": "code",
   "execution_count": 22,
   "id": "4a8236a5",
   "metadata": {},
   "outputs": [
    {
     "data": {
      "text/plain": [
       "'113350'"
      ]
     },
     "execution_count": 22,
     "metadata": {},
     "output_type": "execute_result"
    }
   ],
   "source": [
    "lst = [11,33,50]\n",
    "lst1 = []\n",
    "for i in lst:\n",
    "    lst1.append(str(i))\n",
    "\"\".join(lst1)"
   ]
  },
  {
   "attachments": {},
   "cell_type": "markdown",
   "id": "fac70bc6",
   "metadata": {},
   "source": [
    "## 31. Difference between del and clear?"
   ]
  },
  {
   "cell_type": "code",
   "execution_count": null,
   "id": "b09564c5",
   "metadata": {},
   "outputs": [],
   "source": [
    "del keyword is used to delete a particular element.del is not a function.del is also used to delete whole list.\n",
    "clear() is used to remove all the elements from list and makes the list empty .clear() is the function of list."
   ]
  },
  {
   "attachments": {},
   "cell_type": "markdown",
   "id": "ef95430e",
   "metadata": {},
   "source": [
    "## 32. Difference between remove and pop?"
   ]
  },
  {
   "cell_type": "code",
   "execution_count": null,
   "id": "d9c21514",
   "metadata": {},
   "outputs": [],
   "source": [
    "The pop() method returns the value of the element that is deleted .In pop we have to provide index of that element \n",
    "which we want to delete and if no any index provided then by default it deletes last element.\n",
    "The remove() method doesn't return any value.In remove we have to provide value which we want to remove."
   ]
  },
  {
   "attachments": {},
   "cell_type": "markdown",
   "id": "f004c732",
   "metadata": {},
   "source": [
    "## 33. Difference between indexing and Slicing?"
   ]
  },
  {
   "cell_type": "code",
   "execution_count": null,
   "id": "ece68ad9",
   "metadata": {},
   "outputs": [],
   "source": [
    "Indexing :\n",
    "It is used  to obtain individual element.\n",
    "Indexing can be positive or negative .\n",
    "Slicing :\n",
    "It is used to obtain a sequence of elements.Slicing returns a new list.\n",
    "Slicing can be done by positive and negative indexing together.\n",
    "    "
   ]
  },
  {
   "attachments": {},
   "cell_type": "markdown",
   "id": "454bb49d",
   "metadata": {},
   "source": [
    "## 34. Difference between sort and sorted?"
   ]
  },
  {
   "cell_type": "code",
   "execution_count": null,
   "id": "47fda996",
   "metadata": {},
   "outputs": [],
   "source": [
    "Sort :\n",
    "Sort is the function of list . After sorting we get new list.\n",
    "Sorted :\n",
    "Sorted is the built in function.Sorted function returns sorted list which we have to store in new "
   ]
  },
  {
   "attachments": {},
   "cell_type": "markdown",
   "id": "fa6dcee1",
   "metadata": {},
   "source": [
    "## 35. Difference between reverse and reversed?"
   ]
  },
  {
   "attachments": {},
   "cell_type": "markdown",
   "id": "2201089a",
   "metadata": {},
   "source": [
    "Reverse :\n",
    "It is used to reverse the list.Reverse method is only supported by list.\n",
    "Reversed :\n",
    "Reversed is the built in function.After reversed operation we have to store it in new list."
   ]
  },
  {
   "attachments": {},
   "cell_type": "markdown",
   "id": "b6891150",
   "metadata": {},
   "source": [
    "## 36. Difference between copy and deep copy?"
   ]
  },
  {
   "cell_type": "code",
   "execution_count": null,
   "id": "7a06776a",
   "metadata": {},
   "outputs": [],
   "source": [
    "Copy :\n",
    "No need to import it.\n",
    "In case of nested loop,copy() function fails .\n",
    "Copy() used to create the shallow copy of given list.\n",
    "\n",
    "Deepcopy :\n",
    "We have to import deepcopy in program\n",
    "In case of nested loop deepcopy function works.\n",
    "Deepcopy is not the list function\n"
   ]
  },
  {
   "attachments": {},
   "cell_type": "markdown",
   "id": "c676d93f",
   "metadata": {},
   "source": [
    "## 37. How to check whether the list is empty or not?"
   ]
  },
  {
   "cell_type": "code",
   "execution_count": 1,
   "id": "59553c5e",
   "metadata": {},
   "outputs": [
    {
     "name": "stdout",
     "output_type": "stream",
     "text": [
      "List is empty\n"
     ]
    }
   ],
   "source": [
    "lst=[]\n",
    "if len(lst)== 0:\n",
    "    print(\"List is empty\")\n",
    "else:\n",
    "    print(\"List is not empty\")"
   ]
  },
  {
   "attachments": {},
   "cell_type": "markdown",
   "id": "f2cf3a92",
   "metadata": {},
   "source": [
    "## 38. How to concatenate two lists?"
   ]
  },
  {
   "cell_type": "code",
   "execution_count": 2,
   "id": "26234ae3",
   "metadata": {},
   "outputs": [
    {
     "name": "stdout",
     "output_type": "stream",
     "text": [
      "[2, 4, 7, 1, 8, 9]\n"
     ]
    },
    {
     "data": {
      "text/plain": [
       "[2, 4, 7, 1, 8, 9]"
      ]
     },
     "execution_count": 2,
     "metadata": {},
     "output_type": "execute_result"
    }
   ],
   "source": [
    "lst1 = [2,4,7]\n",
    "lst2 = [1,8,9]\n",
    "print(lst1 + lst2)\n",
    "\n",
    "\n",
    "lst1.extend(lst2)\n",
    "lst1"
   ]
  },
  {
   "attachments": {},
   "cell_type": "markdown",
   "id": "bd24a9bb",
   "metadata": {},
   "source": [
    "## 39. How to find the occurrences of an element in the python list?"
   ]
  },
  {
   "cell_type": "code",
   "execution_count": 3,
   "id": "a383e167",
   "metadata": {},
   "outputs": [
    {
     "data": {
      "text/plain": [
       "3"
      ]
     },
     "execution_count": 3,
     "metadata": {},
     "output_type": "execute_result"
    }
   ],
   "source": [
    "By using count function we have to find the occurrences of an element in python list.\n",
    "e.g.\n",
    "lst = [3,5,8,3,1,3]\n",
    "lst.count(3)\n"
   ]
  },
  {
   "attachments": {},
   "cell_type": "markdown",
   "id": "28f1795c",
   "metadata": {},
   "source": [
    "## 40. How to flatten a list in python?"
   ]
  },
  {
   "cell_type": "code",
   "execution_count": null,
   "id": "67d0ab4e",
   "metadata": {},
   "outputs": [],
   "source": [
    "1]by using loop\n",
    "2]by using list comprehension\n",
    "3]by using sum()\n",
    "\n",
    "\n",
    "\n",
    "ASSIGNMENT COMPLETED SUCCESSFULLY\n"
   ]
  }
 ],
 "metadata": {
  "kernelspec": {
   "display_name": "Python 3 (ipykernel)",
   "language": "python",
   "name": "python3"
  },
  "language_info": {
   "codemirror_mode": {
    "name": "ipython",
    "version": 3
   },
   "file_extension": ".py",
   "mimetype": "text/x-python",
   "name": "python",
   "nbconvert_exporter": "python",
   "pygments_lexer": "ipython3",
   "version": "3.9.12"
  }
 },
 "nbformat": 4,
 "nbformat_minor": 5
}
